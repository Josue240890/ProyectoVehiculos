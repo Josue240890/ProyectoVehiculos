{
 "cells": [
  {
   "cell_type": "code",
   "execution_count": null,
   "id": "66bbfaef",
   "metadata": {},
   "outputs": [],
   "source": [
    "import pandas as pd\n",
    "import plotly.express as px\n",
    "\n",
    "# Leer solo una muestra de 5000 filas para que sea más rápido\n",
    "car_data = pd.read_csv('vehicles_us.csv', nrows=5000) \n",
    "\n",
    "# Ver las primeras filas para confirmar\n",
    "print(car_data.head())\n",
    "\n",
    "# Crear la gráfica con la muestra de datos\n",
    "fig = px.scatter(car_data, x=\"odometer\", y=\"price\")\n",
    "fig.show()"
   ]
  },
  {
   "cell_type": "code",
   "execution_count": null,
   "id": "b0351634",
   "metadata": {},
   "outputs": [],
   "source": [
    "import pandas as pd\n",
    "import plotly.express as px\n",
    "\n",
    "car_data = pd.read_csv('vehicles_us.csv') # leer los datos\n",
    "fig = px.scatter(car_data, x=\"odometer\", y=\"price\") # crear un gráfico de dispersión\n",
    "fig.show() # crear gráfico de dispersión"
   ]
  }
 ],
 "metadata": {
  "kernelspec": {
   "display_name": "vehicles_env",
   "language": "python",
   "name": "python3"
  },
  "language_info": {
   "name": "python",
   "version": "3.13.5"
  }
 },
 "nbformat": 4,
 "nbformat_minor": 5
}
